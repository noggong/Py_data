{
 "metadata": {
  "name": "",
  "signature": "sha256:057bde98bf760e95ae0ea32326574d080153c3bc60c4e54acfe0ecce08d4de3a"
 },
 "nbformat": 3,
 "nbformat_minor": 0,
 "worksheets": []
}