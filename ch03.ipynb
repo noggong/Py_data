{
 "metadata": {
  "name": "",
  "signature": "sha256:8eb6821ec124743ce0f6dc7e0b519a715d01378ddf78a488205844f0bb06f858"
 },
 "nbformat": 3,
 "nbformat_minor": 0,
 "worksheets": [
  {
   "cells": [
    {
     "cell_type": "code",
     "collapsed": false,
     "input": [
      "import numpy as np "
     ],
     "language": "python",
     "metadata": {},
     "outputs": [],
     "prompt_number": 18
    },
    {
     "cell_type": "code",
     "collapsed": false,
     "input": [
      "!ifconfig $foo"
     ],
     "language": "python",
     "metadata": {},
     "outputs": [
      {
       "output_type": "stream",
       "stream": "stdout",
       "text": [
        "lo0: flags=8049<UP,LOOPBACK,RUNNING,MULTICAST> mtu 16384\r\n",
        "\toptions=3<RXCSUM,TXCSUM>\r\n",
        "\tinet6 ::1 prefixlen 128 \r\n",
        "\tinet 127.0.0.1 netmask 0xff000000 \r\n",
        "\tinet6 fe80::1%lo0 prefixlen 64 scopeid 0x1 \r\n",
        "\tnd6 options=1<PERFORMNUD>\r\n",
        "gif0: flags=8010<POINTOPOINT,MULTICAST> mtu 1280\r\n",
        "stf0: flags=0<> mtu 1280\r\n",
        "en0: flags=8863<UP,BROADCAST,SMART,RUNNING,SIMPLEX,MULTICAST> mtu 1500\r\n",
        "\tether 60:f8:1d:c5:22:1e \r\n",
        "\tinet6 fe80::62f8:1dff:fec5:221e%en0 prefixlen 64 scopeid 0x4 \r\n",
        "\tinet 192.168.1.10 netmask 0xffffff00 broadcast 192.168.1.255\r\n",
        "\tnd6 options=1<PERFORMNUD>\r\n",
        "\tmedia: autoselect\r\n",
        "\tstatus: active\r\n",
        "en1: flags=8963<UP,BROADCAST,SMART,RUNNING,PROMISC,SIMPLEX,MULTICAST> mtu 1500\r\n",
        "\toptions=60<TSO4,TSO6>\r\n",
        "\tether 72:00:07:b2:e7:a0 \r\n",
        "\tmedia: autoselect <full-duplex>\r\n",
        "\tstatus: inactive\r\n",
        "en2: flags=8963<UP,BROADCAST,SMART,RUNNING,PROMISC,SIMPLEX,MULTICAST> mtu 1500\r\n",
        "\toptions=60<TSO4,TSO6>\r\n",
        "\tether 72:00:07:b2:e7:a1 \r\n",
        "\tmedia: autoselect <full-duplex>\r\n",
        "\tstatus: inactive\r\n",
        "p2p0: flags=8843<UP,BROADCAST,RUNNING,SIMPLEX,MULTICAST> mtu 2304\r\n",
        "\tether 02:f8:1d:c5:22:1e \r\n",
        "\tmedia: autoselect\r\n",
        "\tstatus: inactive\r\n",
        "awdl0: flags=8843<UP,BROADCAST,RUNNING,SIMPLEX,MULTICAST> mtu 1452\r\n",
        "\tether c2:70:e6:d8:4c:51 \r\n",
        "\tinet6 fe80::c070:e6ff:fed8:4c51%awdl0 prefixlen 64 scopeid 0x8 \r\n",
        "\tnd6 options=1<PERFORMNUD>\r\n",
        "\tmedia: autoselect\r\n",
        "\tstatus: active\r\n",
        "bridge0: flags=8863<UP,BROADCAST,SMART,RUNNING,SIMPLEX,MULTICAST> mtu 1500\r\n",
        "\toptions=63<RXCSUM,TXCSUM,TSO4,TSO6>\r\n",
        "\tether 62:f8:1d:5c:3c:00 \r\n",
        "\tConfiguration:\r\n",
        "\t\tid 0:0:0:0:0:0 priority 0 hellotime 0 fwddelay 0\r\n",
        "\t\tmaxage 0 holdcnt 0 proto stp maxaddr 100 timeout 1200\r\n",
        "\t\troot id 0:0:0:0:0:0 priority 0 ifcost 0 port 0\r\n",
        "\t\tipfilter disabled flags 0x2\r\n",
        "\tmember: en1 flags=3<LEARNING,DISCOVER>\r\n",
        "\t        ifmaxaddr 0 port 5 priority 0 path cost 0\r\n",
        "\tmember: en2 flags=3<LEARNING,DISCOVER>\r\n",
        "\t        ifmaxaddr 0 port 6 priority 0 path cost 0\r\n",
        "\tnd6 options=1<PERFORMNUD>\r\n",
        "\tmedia: <unknown type>\r\n",
        "\tstatus: inactive\r\n",
        "vnic0: flags=8843<UP,BROADCAST,RUNNING,SIMPLEX,MULTICAST> mtu 1500\r\n",
        "\toptions=3<RXCSUM,TXCSUM>\r\n",
        "\tether 00:1c:42:00:00:08 \r\n",
        "\tinet 10.211.55.2 netmask 0xffffff00 broadcast 10.211.55.255\r\n",
        "\tmedia: autoselect\r\n",
        "\tstatus: active\r\n",
        "vnic1: flags=8843<UP,BROADCAST,RUNNING,SIMPLEX,MULTICAST> mtu 1500\r\n",
        "\toptions=3<RXCSUM,TXCSUM>\r\n",
        "\tether 00:1c:42:00:00:09 \r\n",
        "\tinet 10.37.129.2 netmask 0xffffff00 broadcast 10.37.129.255\r\n",
        "\tmedia: autoselect\r\n",
        "\tstatus: active\r\n"
       ]
      }
     ],
     "prompt_number": 4
    },
    {
     "cell_type": "code",
     "collapsed": false,
     "input": [
      "%bookmark db /usr/"
     ],
     "language": "python",
     "metadata": {},
     "outputs": [],
     "prompt_number": 8
    },
    {
     "cell_type": "heading",
     "level": 1,
     "metadata": {},
     "source": []
    }
   ],
   "metadata": {}
  }
 ]
}